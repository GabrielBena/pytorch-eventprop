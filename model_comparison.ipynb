{
 "cells": [
  {
   "cell_type": "code",
   "execution_count": 1,
   "metadata": {},
   "outputs": [],
   "source": [
    "import matplotlib.pyplot as plt\n",
    "import numpy as np\n",
    "\n",
    "import torch\n",
    "from torchvision import datasets, transforms\n",
    "\n",
    "import tonic\n",
    "from yingyang.dataset import YinYangDataset\n",
    "\n",
    "from new_models import SNN, SNN2, SpikeCELoss\n",
    "from training import train, test, encode_data\n",
    "import yaml\n",
    "import random\n",
    "import snntorch as snn\n",
    "from tqdm.notebook import tqdm\n",
    "import pandas as pd\n",
    "import seaborn as sns\n"
   ]
  },
  {
   "cell_type": "code",
   "execution_count": 2,
   "metadata": {},
   "outputs": [
    {
     "data": {
      "text/plain": [
       "{'T': 30,\n",
       " 'alpha': 0.01,\n",
       " 'batch_size': 128,\n",
       " 'beta': 2,\n",
       " 'data_folder': '~/SpiNNCloud/Code/data/',\n",
       " 'dataset': 'mnist',\n",
       " 'deterministic': False,\n",
       " 'device': 'cpu',\n",
       " 'dt': 1,\n",
       " 'encoding': 'latency_snntorch',\n",
       " 'epochs': 20,\n",
       " 'loss_type': 'ce_temporal',\n",
       " 'lr': 1,\n",
       " 'model': 'eventprop',\n",
       " 'mu': [0.05, 1.0],\n",
       " 'n_hid': None,\n",
       " 'optimizer': 'sgd',\n",
       " 'print_freq': 100,\n",
       " 'resolve_silent': True,\n",
       " 'seed': 0,\n",
       " 't_max': None,\n",
       " 't_min': 2.0,\n",
       " 'tau_m': 20.0,\n",
       " 'tau_s': 5.0,\n",
       " 'xi': 0.4}"
      ]
     },
     "execution_count": 2,
     "metadata": {},
     "output_type": "execute_result"
    }
   ],
   "source": [
    "from dataclasses import dataclass\n",
    "d_args = yaml.safe_load(open('args.yaml', 'r'))\n",
    "def make_dc(d, name='d_dataclass'):\n",
    "    @dataclass\n",
    "    class Wrapped:\n",
    "        __annotations__ = {k: type(v) for k, v in d.items()}\n",
    "        \n",
    "    Wrapped.__qualname__ = Wrapped.__name__ = name\n",
    "\n",
    "    return Wrapped\n",
    "\n",
    "args = make_dc(d_args)(**d_args)\n",
    "d_args"
   ]
  },
  {
   "cell_type": "code",
   "execution_count": 8,
   "metadata": {},
   "outputs": [],
   "source": [
    "torch.manual_seed(args.seed)\n",
    "np.random.seed(args.seed)\n",
    "random.seed(args.seed)\n",
    "args.dataset = 'ying_yang'\n",
    "if args.deterministic:\n",
    "    torch.backends.cudnn.deterministic = True\n",
    "    torch.backends.cudnn.benchmark = False\n",
    "\n",
    "if args.dataset == \"mnist\":\n",
    "    train_dataset = datasets.MNIST(\n",
    "        args.data_folder, train=True, download=True, transform=transforms.ToTensor()\n",
    "    )\n",
    "    test_dataset = datasets.MNIST(\n",
    "        args.data_folder, train=False, download=True, transform=transforms.ToTensor()\n",
    "    )\n",
    "elif args.dataset == \"ying_yang\":\n",
    "    train_dataset = YinYangDataset(size=60000, seed=42)\n",
    "    test_dataset = YinYangDataset(size=10000, seed=40)\n",
    "\n",
    "else:\n",
    "    raise ValueError(\"Invalid dataset name\")\n",
    "\n",
    "train_loader = torch.utils.data.DataLoader(\n",
    "    train_dataset, batch_size=args.batch_size, shuffle=True, drop_last=True\n",
    ")\n",
    "test_loader = torch.utils.data.DataLoader(\n",
    "    test_dataset, batch_size=args.batch_size, shuffle=False, drop_last=True\n",
    ")\n",
    "\n",
    "model_kwars = {\n",
    "    \"T\": args.T,\n",
    "    \"dt\": args.dt,\n",
    "    \"tau_m\": args.tau_m,\n",
    "    \"tau_s\": args.tau_s,\n",
    "    \"mu\": args.mu,\n",
    "    \"resolve_silent\" : True,\n",
    "}\n",
    "\n",
    "n_ins = {\"mnist\": 784, \"ying_yang\": 5 if args.encoding == \"latency\" else 4}\n",
    "n_outs = {\"mnist\": 10, \"ying_yang\": 3}\n",
    "\n",
    "dims = [n_ins[args.dataset]]\n",
    "if args.n_hid is not None and isinstance(args.n_hid, list):\n",
    "    dims.extend(args.n_hid)\n",
    "elif isinstance(args.n_hid, int):\n",
    "    dims.append(args.n_hid)\n",
    "dims.append(n_outs[args.dataset])\n"
   ]
  },
  {
   "cell_type": "code",
   "execution_count": 4,
   "metadata": {},
   "outputs": [
    {
     "data": {
      "text/plain": [
       "[0.05, 0.05]"
      ]
     },
     "execution_count": 4,
     "metadata": {},
     "output_type": "execute_result"
    }
   ],
   "source": [
    "snntorch_model =  SNN2(dims, **model_kwars).to(args.device)\n",
    "eventprop_model = SNN(dims, **model_kwars).to(args.device)\n",
    "eventprop_model.layers[0].weight.data = snntorch_model.layers[0].weight.data\n",
    "models = {\"snntorch\": snntorch_model, \"eventprop\": eventprop_model}\n",
    "# [m.eval() for m in models.values()]\n",
    "[m.layers[0].mu for m in models.values()]"
   ]
  },
  {
   "cell_type": "code",
   "execution_count": 5,
   "metadata": {},
   "outputs": [
    {
     "data": {
      "application/vnd.jupyter.widget-view+json": {
       "model_id": "fb63e453388a4311a6b76bd03bee0659",
       "version_major": 2,
       "version_minor": 0
      },
      "text/plain": [
       "  0%|          | 0/10 [00:00<?, ?it/s]"
      ]
     },
     "metadata": {},
     "output_type": "display_data"
    }
   ],
   "source": [
    "counts = [0, 0]\n",
    "frs = [[], []]\n",
    "for (data, target), _  in zip(tqdm(test_loader, total=10), range(10)) : \n",
    "        \n",
    "    data, target = data.to(args.device), target.to(args.device)\n",
    "    spikes_data = encode_data(data, args)\n",
    "    snn_out = models[\"snntorch\"](spikes_data)\n",
    "    event_out = models[\"eventprop\"](spikes_data)\n",
    "    counts = [c + out[0].unique(return_counts=True)[1] for c, out in zip(counts, [snn_out, event_out])]\n",
    "    [f.append(s[0].float().mean()) for f, s in zip(frs, [snn_out, event_out])]\n",
    "    "
   ]
  },
  {
   "cell_type": "code",
   "execution_count": 6,
   "metadata": {},
   "outputs": [
    {
     "data": {
      "text/plain": [
       "[tensor([372790,  49610]), tensor([345666,  38334])]"
      ]
     },
     "execution_count": 6,
     "metadata": {},
     "output_type": "execute_result"
    }
   ],
   "source": [
    "counts"
   ]
  },
  {
   "cell_type": "code",
   "execution_count": 7,
   "metadata": {},
   "outputs": [
    {
     "data": {
      "image/png": "[encoded data removed]",
      "text/plain": [
       "<Figure size 1000x1000 with 9 Axes>"
      ]
     },
     "metadata": {},
     "output_type": "display_data"
    }
   ],
   "source": [
    "data, target = next(iter(test_loader))\n",
    "spikes_data = encode_data(data, args)\n",
    "fig, axs = plt.subplots(3, 3, figsize=(10, 10)) \n",
    "for t, s, ax in zip(target[:9], spikes_data.argmax(0), axs.flatten()) : \n",
    "    ax.imshow(s.reshape(28, 28))\n",
    "    ax.set_title(t.item())"
   ]
  },
  {
   "cell_type": "code",
   "execution_count": 9,
   "metadata": {},
   "outputs": [
    {
     "data": {
      "application/vnd.jupyter.widget-view+json": {
       "model_id": "5f7eb33d6d0546ae9a87338906c6474b",
       "version_major": 2,
       "version_minor": 0
      },
      "text/plain": [
       "  0%|          | 0/78 [00:00<?, ?it/s]"
      ]
     },
     "metadata": {},
     "output_type": "display_data"
    }
   ],
   "source": [
    "plot_data ={k : [] for k in ['sum_x', 'sum_y', 'first_x', 'first_y', 'target']}\n",
    "args.encoding = 'latency_snntorch'\n",
    "args.T = 30\n",
    "for data, target in tqdm(test_loader) :\n",
    "    spikes_data = encode_data(data, args)\n",
    "    for u in target.unique() : \n",
    "        plot_data['sum_x'].extend(spikes_data[:, target == u].sum(0)[:, 0].tolist())\n",
    "        plot_data['sum_y'].extend(spikes_data[:, target == u].sum(0)[:, 1].tolist())\n",
    "        plot_data['first_x'].extend(spikes_data[:, target == u].argmax(0)[:, 0].tolist())\n",
    "        plot_data['first_y'].extend(spikes_data[:, target == u].argmax(0)[:, 1].tolist())\n",
    "        plot_data['target'].extend(target[target == u].tolist())\n",
    "\n",
    "plot_data = pd.DataFrame.from_dict(plot_data)"
   ]
  },
  {
   "cell_type": "code",
   "execution_count": 11,
   "metadata": {},
   "outputs": [
    {
     "data": {
      "text/plain": [
       "<Axes: xlabel='sum_x', ylabel='sum_y'>"
      ]
     },
     "execution_count": 11,
     "metadata": {},
     "output_type": "execute_result"
    },
    {
     "data": {
      "image/png": "[encoded data removed]",
      "text/plain": [
       "<Figure size 640x480 with 1 Axes>"
      ]
     },
     "metadata": {},
     "output_type": "display_data"
    }
   ],
   "source": [
    "sns.scatterplot(plot_data, x='sum_x', y='sum_y', hue='target')"
   ]
  }
 ],
 "metadata": {
  "kernelspec": {
   "display_name": "snntorch",
   "language": "python",
   "name": "python3"
  },
  "language_info": {
   "codemirror_mode": {
    "name": "ipython",
    "version": 3
   },
   "file_extension": ".py",
   "mimetype": "text/x-python",
   "name": "python",
   "nbconvert_exporter": "python",
   "pygments_lexer": "ipython3",
   "version": "3.10.0"
  }
 },
 "nbformat": 4,
 "nbformat_minor": 2
}
