{
 "cells": [
  {
   "cell_type": "markdown",
   "metadata": {},
   "source": [
    "# Surrogate (snntorch) vs Eventprop Comparison"
   ]
  },
  {
   "cell_type": "code",
   "execution_count": 1,
   "metadata": {},
   "outputs": [],
   "source": [
    "import matplotlib.pyplot as plt\n",
    "import numpy as np\n",
    "\n",
    "import torch\n",
    "from torchvision import datasets, transforms\n",
    "\n",
    "from yingyang.dataset import YinYangDataset\n",
    "\n",
    "import random\n",
    "from tqdm.notebook import tqdm\n",
    "import pandas as pd\n",
    "import seaborn as sns\n",
    "import argparse"
   ]
  },
  {
   "cell_type": "code",
   "execution_count": 2,
   "metadata": {},
   "outputs": [],
   "source": [
    "%load_ext autoreload\n",
    "%autoreload 2"
   ]
  },
  {
   "cell_type": "markdown",
   "metadata": {},
   "source": [
    "## Data and Config"
   ]
  },
  {
   "cell_type": "code",
   "execution_count": 3,
   "metadata": {},
   "outputs": [],
   "source": [
    "from eventprop.config import get_flat_dict_from_nested"
   ]
  },
  {
   "cell_type": "code",
   "execution_count": 4,
   "metadata": {},
   "outputs": [],
   "source": [
    "data_config = {\n",
    "    \"seed\": 42,\n",
    "    \"dataset\": \"mnist\",\n",
    "    \"deterministic\": True,\n",
    "    \"batch_size\": 128,\n",
    "    \"encoding\": \"latency\",\n",
    "    \"T\": 50,\n",
    "    \"dt\": 1e-3,\n",
    "    \"t_min\": 2,\n",
    "    'data_folder' : '../../../data/'\n",
    "}"
   ]
  },
  {
   "cell_type": "code",
   "execution_count": 5,
   "metadata": {},
   "outputs": [],
   "source": [
    "torch.manual_seed(data_config[\"seed\"])\n",
    "np.random.seed(data_config[\"seed\"])\n",
    "random.seed(data_config[\"seed\"])\n",
    "\n",
    "data_config[\"dataset\"] = data_config[\"dataset\"]\n",
    "if data_config[\"deterministic\"]:\n",
    "    torch.backends.cudnn.deterministic = True\n",
    "    torch.backends.cudnn.benchmark = False\n",
    "\n",
    "if data_config[\"dataset\"] == \"mnist\":\n",
    "    train_dataset = datasets.MNIST(\n",
    "        data_config[\"data_folder\"],\n",
    "        train=True,\n",
    "        download=True,\n",
    "        transform=transforms.ToTensor(),\n",
    "    )\n",
    "    test_dataset = datasets.MNIST(\n",
    "        data_config[\"data_folder\"],\n",
    "        train=False,\n",
    "        download=True,\n",
    "        transform=transforms.ToTensor(),\n",
    "    )\n",
    "elif data_config[\"dataset\"] == \"ying_yang\":\n",
    "    train_dataset = YinYangDataset(size=60000, seed=data_config[\"seed\"])\n",
    "    test_dataset = YinYangDataset(size=10000, seed=data_config[\"seed\"] + 2)    \n",
    "\n",
    "elif data_config[\"dataset\"] == \"synthetic\":\n",
    "    in_dim = 2\n",
    "    input_spike_times = {\n",
    "        k: (np.random.choice(np.arange(int(data_config['T']) - 1), size=5) * (1e-3 / data_config['dt'])).astype(int)\n",
    "        for k in range(in_dim)\n",
    "    }\n",
    "    input_spikes = np.zeros((data_config['T'], 1, in_dim))\n",
    "    for n, times in input_spike_times.items() : \n",
    "        input_spikes[times, 0, n] = 1\n",
    "    \n",
    "else:\n",
    "    raise ValueError(\"Invalid dataset name\")\n",
    "\n",
    "if data_config[\"dataset\"] != \"synthetic\":\n",
    "        \n",
    "    train_loader = torch.utils.data.DataLoader(\n",
    "        train_dataset, batch_size=data_config[\"batch_size\"], shuffle=True, drop_last=True\n",
    "    )\n",
    "    test_loader = torch.utils.data.DataLoader(\n",
    "        test_dataset, batch_size=data_config[\"batch_size\"], shuffle=False, drop_last=True\n",
    "    )"
   ]
  },
  {
   "cell_type": "markdown",
   "metadata": {},
   "source": [
    "## Models"
   ]
  },
  {
   "cell_type": "code",
   "execution_count": 6,
   "metadata": {},
   "outputs": [],
   "source": [
    "from eventprop.models import SNN"
   ]
  },
  {
   "cell_type": "code",
   "execution_count": 7,
   "metadata": {},
   "outputs": [],
   "source": [
    "device = torch.device(\"cuda\" if torch.cuda.is_available() else \"cpu\")\n",
    "model_config = {\n",
    "        \"model_type\": None, # will be set later\n",
    "        \"snn\": {\n",
    "            \"T\": data_config[\"T\"],\n",
    "            \"dt\": data_config[\"dt\"],\n",
    "            \"tau_m\": 20e-3,\n",
    "            \"tau_s\": 5e-3,\n",
    "        },\n",
    "        \"weights\": {\n",
    "            \"init_mode\": \"kaiming_both\",\n",
    "            \"scale\": [3, 3.5, 2.5],\n",
    "            # \"mu\": paper_params[data_config[\"dataset\"]][\"mu\"],\n",
    "            # \"sigma\": paper_params[data_config[\"dataset\"]][\"sigma\"],\n",
    "            \"n_hid\": 3,\n",
    "            \"resolve_silent\": False,\n",
    "            \"dropout\": 0.0,\n",
    "        },\n",
    "        \"device\": torch.device(\"cuda\")\n",
    "        if torch.cuda.is_available()\n",
    "        else torch.device(\"cpu\"),\n",
    "        # \"device\": \"cpu\",\n",
    "    }\n",
    "\n",
    "training_config = {\n",
    "    \"n_epochs\": 15,\n",
    "    \"loss\": \"ce_temporal\",\n",
    "    \"alpha\": 0.0,\n",
    "    \"xi\": 1,\n",
    "    \"beta\": 6.4,\n",
    "    \"n_tests\": 20,\n",
    "}\n",
    "\n",
    "optim_config = {\n",
    "    \"lr\": 1e-2,\n",
    "    \"weight_decay\": 1e-6,\n",
    "    \"optimizer\": \"adam\",\n",
    "    \"gamma\": 0.9,\n",
    "}\n",
    "\n",
    "config = {\n",
    "    \"data\": data_config,\n",
    "    \"model\": model_config,\n",
    "    \"training\": training_config,\n",
    "    \"optim\": optim_config,\n",
    "}\n",
    "\n",
    "flat_config = get_flat_dict_from_nested(config)\n",
    "\n",
    "n_ins = {\"mnist\": 784, \"ying_yang\": 5 if data_config[\"encoding\"] == \"latency\" else 4, \"synthetic\": 2}\n",
    "n_outs = {\"mnist\": 10, \"ying_yang\": 3, \"synthetic\": 2}\n",
    "\n",
    "dims = [n_ins[data_config[\"dataset\"]]]\n",
    "if model_config['weights'][\"n_hid\"] is not None and isinstance(model_config['weights'][\"n_hid\"], list):\n",
    "    dims.extend(model_config['weights'][\"n_hid\"])\n",
    "elif isinstance(model_config['weights'][\"n_hid\"], int):\n",
    "    dims.append(model_config['weights'][\"n_hid\"])\n",
    "dims.append(n_outs[data_config[\"dataset\"]])"
   ]
  },
  {
   "cell_type": "code",
   "execution_count": 8,
   "metadata": {},
   "outputs": [],
   "source": [
    "snntorch_model = SNN(dims, **dict(flat_config, model_type='snntorch')).to(device)\n",
    "eventprop_model = SNN(dims, **dict(flat_config, model_type='eventprop')).to(device)\n",
    "\n",
    "for l, (layer1, layer2) in enumerate(zip(eventprop_model.layers, snntorch_model.layers)):\n",
    "\n",
    "    if data_config[\"dataset\"] == \"synthetic\":\n",
    "        n2, n1 = layer1.weight.data.shape\n",
    "        nu = 1 / np.sqrt(n1)\n",
    "        layer1.weight.data = torch.from_numpy(np.random.normal(nu, nu, size=(n1, n2)) * model_config['weights'][\"scale\"][l]).T.to(device).float()\n",
    "        # layer1.weight.data =  (torch.arange(1, n1 * n2 + 1).reshape((n1, n2)) + l * n1 * n2).float().to(device)\n",
    "\n",
    "    layer2.weight.data = layer1.weight.data\n",
    "    \n",
    "    if hasattr(layer1, \"bias\"):\n",
    "        layer2.bias.data = layer1.bias.data\n",
    "models = {\"snntorch\": snntorch_model, \"eventprop\": eventprop_model}"
   ]
  },
  {
   "cell_type": "markdown",
   "metadata": {},
   "source": [
    "## Behavior Comparison"
   ]
  },
  {
   "cell_type": "code",
   "execution_count": 9,
   "metadata": {},
   "outputs": [],
   "source": [
    "from eventprop.training import encode_data"
   ]
  },
  {
   "cell_type": "markdown",
   "metadata": {},
   "source": [
    "### Voltage plot check"
   ]
  },
  {
   "cell_type": "code",
   "execution_count": 10,
   "metadata": {},
   "outputs": [],
   "source": [
    "if True : \n",
    "    \n",
    "    if data_config[\"dataset\"] == \"synthetic\" :\n",
    "        in_spikes = torch.from_numpy(input_spikes).float().to(device)\n",
    "        targets = torch.tensor([0])\n",
    "    else :\n",
    "        data, targets = next(iter(test_loader))\n",
    "        data, targets = data.to(device), targets.to(device)\n",
    "        in_spikes = encode_data(data, argparse.Namespace(**data_config))\n",
    "\n",
    "    outs = {n: model(in_spikes) for n, model in models.items()}"
   ]
  },
  {
   "cell_type": "code",
   "execution_count": 11,
   "metadata": {},
   "outputs": [],
   "source": [
    "from eventprop.models import SpikeCELoss\n",
    "loss_fn = SpikeCELoss(xi=1)"
   ]
  },
  {
   "cell_type": "code",
   "execution_count": 12,
   "metadata": {},
   "outputs": [],
   "source": [
    "loss = loss_fn(outs['eventprop'][0], targets) + 1"
   ]
  },
  {
   "cell_type": "code",
   "execution_count": 14,
   "metadata": {},
   "outputs": [
    {
     "data": {
      "image/svg+xml": [
       "<?xml version=\"1.0\" encoding=\"UTF-8\" standalone=\"no\"?>\n",
       "<!DOCTYPE svg PUBLIC \"-//W3C//DTD SVG 1.1//EN\"\n",
       " \"http://www.w3.org/Graphics/SVG/1.1/DTD/svg11.dtd\">\n",
       "<!-- Generated by graphviz version 2.43.0 (0)\n",
       " -->\n",
       "<!-- Title: %3 Pages: 1 -->\n",
       "<svg width=\"864pt\" height=\"434pt\"\n",
       " viewBox=\"0.00 0.00 864.00 433.70\" xmlns=\"http://www.w3.org/2000/svg\" xmlns:xlink=\"http://www.w3.org/1999/xlink\">\n",
       "<g id=\"graph0\" class=\"graph\" transform=\"scale(1.47 1.47) rotate(0) translate(4 632)\">\n",
       "<title>%3</title>\n",
       "<polygon fill=\"white\" stroke=\"transparent\" points=\"-4,4 -4,-632 1263,-632 1263,4 -4,4\"/>\n",
       "<!-- 140084667842928 -->\n",
       "<g id=\"node1\" class=\"node\">\n",
       "<title>140084667842928</title>\n",
       "<polygon fill=\"#caff70\" stroke=\"black\" points=\"1148.5,-31 1094.5,-31 1094.5,0 1148.5,0 1148.5,-31\"/>\n",
       "<text text-anchor=\"middle\" x=\"1121.5\" y=\"-7\" font-family=\"monospace\" font-size=\"10.00\"> ()</text>\n",
       "</g>\n",
       "<!-- 140084666172800 -->\n",
       "<g id=\"node2\" class=\"node\">\n",
       "<title>140084666172800</title>\n",
       "<polygon fill=\"lightgrey\" stroke=\"black\" points=\"1166,-86 1077,-86 1077,-67 1166,-67 1166,-86\"/>\n",
       "<text text-anchor=\"middle\" x=\"1121.5\" y=\"-74\" font-family=\"monospace\" font-size=\"10.00\">AddBackward0</text>\n",
       "</g>\n",
       "<!-- 140084666172800&#45;&gt;140084667842928 -->\n",
       "<g id=\"edge24\" class=\"edge\">\n",
       "<title>140084666172800&#45;&gt;140084667842928</title>\n",
       "<path fill=\"none\" stroke=\"black\" d=\"M1121.5,-66.79C1121.5,-60.07 1121.5,-50.4 1121.5,-41.34\"/>\n",
       "<polygon fill=\"black\" stroke=\"black\" points=\"1125,-41.19 1121.5,-31.19 1118,-41.19 1125,-41.19\"/>\n",
       "</g>\n",
       "<!-- 140084666172704 -->\n",
       "<g id=\"node3\" class=\"node\">\n",
       "<title>140084666172704</title>\n",
       "<polygon fill=\"lightgrey\" stroke=\"black\" points=\"1178,-141 1065,-141 1065,-122 1178,-122 1178,-141\"/>\n",
       "<text text-anchor=\"middle\" x=\"1121.5\" y=\"-129\" font-family=\"monospace\" font-size=\"10.00\">NllLossBackward0</text>\n",
       "</g>\n",
       "<!-- 140084666172704&#45;&gt;140084666172800 -->\n",
       "<g id=\"edge1\" class=\"edge\">\n",
       "<title>140084666172704&#45;&gt;140084666172800</title>\n",
       "<path fill=\"none\" stroke=\"black\" d=\"M1121.5,-121.75C1121.5,-114.8 1121.5,-104.85 1121.5,-96.13\"/>\n",
       "<polygon fill=\"black\" stroke=\"black\" points=\"1125,-96.09 1121.5,-86.09 1118,-96.09 1125,-96.09\"/>\n",
       "</g>\n",
       "<!-- 140084666172560 -->\n",
       "<g id=\"node4\" class=\"node\">\n",
       "<title>140084666172560</title>\n",
       "<polygon fill=\"lightgrey\" stroke=\"black\" points=\"1187,-196 1056,-196 1056,-177 1187,-177 1187,-196\"/>\n",
       "<text text-anchor=\"middle\" x=\"1121.5\" y=\"-184\" font-family=\"monospace\" font-size=\"10.00\">LogSoftmaxBackward0</text>\n",
       "</g>\n",
       "<!-- 140084666172560&#45;&gt;140084666172704 -->\n",
       "<g id=\"edge2\" class=\"edge\">\n",
       "<title>140084666172560&#45;&gt;140084666172704</title>\n",
       "<path fill=\"none\" stroke=\"black\" d=\"M1121.5,-176.75C1121.5,-169.8 1121.5,-159.85 1121.5,-151.13\"/>\n",
       "<polygon fill=\"black\" stroke=\"black\" points=\"1125,-151.09 1121.5,-141.09 1118,-151.09 1125,-151.09\"/>\n",
       "</g>\n",
       "<!-- 140084666172512 -->\n",
       "<g id=\"node5\" class=\"node\">\n",
       "<title>140084666172512</title>\n",
       "<polygon fill=\"lightgrey\" stroke=\"black\" points=\"1166,-251 1077,-251 1077,-232 1166,-232 1166,-251\"/>\n",
       "<text text-anchor=\"middle\" x=\"1121.5\" y=\"-239\" font-family=\"monospace\" font-size=\"10.00\">DivBackward0</text>\n",
       "</g>\n",
       "<!-- 140084666172512&#45;&gt;140084666172560 -->\n",
       "<g id=\"edge3\" class=\"edge\">\n",
       "<title>140084666172512&#45;&gt;140084666172560</title>\n",
       "<path fill=\"none\" stroke=\"black\" d=\"M1121.5,-231.75C1121.5,-224.8 1121.5,-214.85 1121.5,-206.13\"/>\n",
       "<polygon fill=\"black\" stroke=\"black\" points=\"1125,-206.09 1121.5,-196.09 1118,-206.09 1125,-206.09\"/>\n",
       "</g>\n",
       "<!-- 140084666172416 -->\n",
       "<g id=\"node6\" class=\"node\">\n",
       "<title>140084666172416</title>\n",
       "<polygon fill=\"lightgrey\" stroke=\"black\" points=\"1166,-306 1077,-306 1077,-287 1166,-287 1166,-306\"/>\n",
       "<text text-anchor=\"middle\" x=\"1121.5\" y=\"-294\" font-family=\"monospace\" font-size=\"10.00\">NegBackward0</text>\n",
       "</g>\n",
       "<!-- 140084666172416&#45;&gt;140084666172512 -->\n",
       "<g id=\"edge4\" class=\"edge\">\n",
       "<title>140084666172416&#45;&gt;140084666172512</title>\n",
       "<path fill=\"none\" stroke=\"black\" d=\"M1121.5,-286.75C1121.5,-279.8 1121.5,-269.85 1121.5,-261.13\"/>\n",
       "<polygon fill=\"black\" stroke=\"black\" points=\"1125,-261.09 1121.5,-251.09 1118,-261.09 1125,-261.09\"/>\n",
       "</g>\n",
       "<!-- 140084667808992 -->\n",
       "<g id=\"node7\" class=\"node\">\n",
       "<title>140084667808992</title>\n",
       "<polygon fill=\"lightgrey\" stroke=\"black\" points=\"1184,-361 1059,-361 1059,-342 1184,-342 1184,-361\"/>\n",
       "<text text-anchor=\"middle\" x=\"1121.5\" y=\"-349\" font-family=\"monospace\" font-size=\"10.00\">FirstSpikeBackward</text>\n",
       "</g>\n",
       "<!-- 140084667808992&#45;&gt;140084666172416 -->\n",
       "<g id=\"edge5\" class=\"edge\">\n",
       "<title>140084667808992&#45;&gt;140084666172416</title>\n",
       "<path fill=\"none\" stroke=\"black\" d=\"M1121.5,-341.75C1121.5,-334.8 1121.5,-324.85 1121.5,-316.13\"/>\n",
       "<polygon fill=\"black\" stroke=\"black\" points=\"1125,-316.09 1121.5,-306.09 1118,-316.09 1125,-316.09\"/>\n",
       "</g>\n",
       "<!-- 140084667807904 -->\n",
       "<g id=\"node8\" class=\"node\">\n",
       "<title>140084667807904</title>\n",
       "<polygon fill=\"lightgrey\" stroke=\"black\" points=\"994,-422 875,-422 875,-403 994,-403 994,-422\"/>\n",
       "<text text-anchor=\"middle\" x=\"934.5\" y=\"-410\" font-family=\"monospace\" font-size=\"10.00\">EventPropBackward</text>\n",
       "</g>\n",
       "<!-- 140084667807904&#45;&gt;140084667808992 -->\n",
       "<g id=\"edge6\" class=\"edge\">\n",
       "<title>140084667807904&#45;&gt;140084667808992</title>\n",
       "<path fill=\"none\" stroke=\"black\" d=\"M961.69,-402.92C994.1,-392.7 1048.4,-375.56 1084.58,-364.15\"/>\n",
       "<polygon fill=\"black\" stroke=\"black\" points=\"1085.79,-367.44 1094.28,-361.09 1083.69,-360.76 1085.79,-367.44\"/>\n",
       "</g>\n",
       "<!-- 140084667807360 -->\n",
       "<g id=\"node9\" class=\"node\">\n",
       "<title>140084667807360</title>\n",
       "<polygon fill=\"lightgrey\" stroke=\"black\" points=\"467,-489 348,-489 348,-470 467,-470 467,-489\"/>\n",
       "<text text-anchor=\"middle\" x=\"407.5\" y=\"-477\" font-family=\"monospace\" font-size=\"10.00\">EventPropBackward</text>\n",
       "</g>\n",
       "<!-- 140084667807360&#45;&gt;140084667807904 -->\n",
       "<g id=\"edge7\" class=\"edge\">\n",
       "<title>140084667807360&#45;&gt;140084667807904</title>\n",
       "<path fill=\"none\" stroke=\"black\" d=\"M467.18,-471.14C565.38,-459.03 760.48,-434.96 864.84,-422.09\"/>\n",
       "<polygon fill=\"black\" stroke=\"black\" points=\"865.46,-425.54 874.95,-420.84 864.6,-418.6 865.46,-425.54\"/>\n",
       "</g>\n",
       "<!-- 140084666172128 -->\n",
       "<g id=\"node10\" class=\"node\">\n",
       "<title>140084666172128</title>\n",
       "<polygon fill=\"lightgrey\" stroke=\"black\" points=\"104,-556 3,-556 3,-537 104,-537 104,-556\"/>\n",
       "<text text-anchor=\"middle\" x=\"53.5\" y=\"-544\" font-family=\"monospace\" font-size=\"10.00\">AccumulateGrad</text>\n",
       "</g>\n",
       "<!-- 140084666172128&#45;&gt;140084667807360 -->\n",
       "<g id=\"edge8\" class=\"edge\">\n",
       "<title>140084666172128&#45;&gt;140084667807360</title>\n",
       "<path fill=\"none\" stroke=\"black\" d=\"M86.48,-536.95C94.94,-534.88 104.03,-532.76 112.5,-531 190.28,-514.81 280.39,-499.94 340.35,-490.59\"/>\n",
       "<polygon fill=\"black\" stroke=\"black\" points=\"341.1,-494.02 350.44,-489.03 340.03,-487.1 341.1,-494.02\"/>\n",
       "</g>\n",
       "<!-- 140085186114000 -->\n",
       "<g id=\"node11\" class=\"node\">\n",
       "<title>140085186114000</title>\n",
       "<polygon fill=\"lightblue\" stroke=\"black\" points=\"107,-628 0,-628 0,-598 107,-598 107,-628\"/>\n",
       "<text text-anchor=\"middle\" x=\"53.5\" y=\"-616\" font-family=\"monospace\" font-size=\"10.00\">layers.0.weight</text>\n",
       "<text text-anchor=\"middle\" x=\"53.5\" y=\"-605\" font-family=\"monospace\" font-size=\"10.00\"> (3, 784)</text>\n",
       "</g>\n",
       "<!-- 140085186114000&#45;&gt;140084666172128 -->\n",
       "<g id=\"edge9\" class=\"edge\">\n",
       "<title>140085186114000&#45;&gt;140084666172128</title>\n",
       "<path fill=\"none\" stroke=\"black\" d=\"M53.5,-597.69C53.5,-588.41 53.5,-576.23 53.5,-566.19\"/>\n",
       "<polygon fill=\"black\" stroke=\"black\" points=\"57,-566.04 53.5,-556.04 50,-566.04 57,-566.04\"/>\n",
       "</g>\n",
       "<!-- 140084667428560 -->\n",
       "<g id=\"node12\" class=\"node\">\n",
       "<title>140084667428560</title>\n",
       "<polygon fill=\"orange\" stroke=\"black\" points=\"229,-562 122,-562 122,-531 229,-531 229,-562\"/>\n",
       "<text text-anchor=\"middle\" x=\"175.5\" y=\"-538\" font-family=\"monospace\" font-size=\"10.00\"> (50, 128, 784)</text>\n",
       "</g>\n",
       "<!-- 140084667428560&#45;&gt;140084667807360 -->\n",
       "<g id=\"edge10\" class=\"edge\">\n",
       "<title>140084667428560&#45;&gt;140084667807360</title>\n",
       "<path fill=\"none\" stroke=\"black\" d=\"M227.28,-530.99C269.45,-519.18 328.16,-502.73 366.96,-491.86\"/>\n",
       "<polygon fill=\"black\" stroke=\"black\" points=\"368.18,-495.15 376.86,-489.08 366.29,-488.41 368.18,-495.15\"/>\n",
       "</g>\n",
       "<!-- 140084667824080 -->\n",
       "<g id=\"node13\" class=\"node\">\n",
       "<title>140084667824080</title>\n",
       "<polygon fill=\"orange\" stroke=\"black\" points=\"342,-562 247,-562 247,-531 342,-531 342,-562\"/>\n",
       "<text text-anchor=\"middle\" x=\"294.5\" y=\"-538\" font-family=\"monospace\" font-size=\"10.00\"> (50, 128, 3)</text>\n",
       "</g>\n",
       "<!-- 140084667824080&#45;&gt;140084667807360 -->\n",
       "<g id=\"edge11\" class=\"edge\">\n",
       "<title>140084667824080&#45;&gt;140084667807360</title>\n",
       "<path fill=\"none\" stroke=\"black\" d=\"M319.86,-530.91C339.01,-519.9 365.1,-504.89 383.82,-494.12\"/>\n",
       "<polygon fill=\"black\" stroke=\"black\" points=\"385.69,-497.08 392.61,-489.06 382.2,-491.01 385.69,-497.08\"/>\n",
       "</g>\n",
       "<!-- 140084667824752 -->\n",
       "<g id=\"node14\" class=\"node\">\n",
       "<title>140084667824752</title>\n",
       "<polygon fill=\"orange\" stroke=\"black\" points=\"455,-562 360,-562 360,-531 455,-531 455,-562\"/>\n",
       "<text text-anchor=\"middle\" x=\"407.5\" y=\"-538\" font-family=\"monospace\" font-size=\"10.00\"> (50, 128, 3)</text>\n",
       "</g>\n",
       "<!-- 140084667824752&#45;&gt;140084667807360 -->\n",
       "<g id=\"edge12\" class=\"edge\">\n",
       "<title>140084667824752&#45;&gt;140084667807360</title>\n",
       "<path fill=\"none\" stroke=\"black\" d=\"M407.5,-530.75C407.5,-521.39 407.5,-509.19 407.5,-499.16\"/>\n",
       "<polygon fill=\"black\" stroke=\"black\" points=\"411,-499.02 407.5,-489.02 404,-499.02 411,-499.02\"/>\n",
       "</g>\n",
       "<!-- 140084667826000 -->\n",
       "<g id=\"node15\" class=\"node\">\n",
       "<title>140084667826000</title>\n",
       "<polygon fill=\"orange\" stroke=\"black\" points=\"568,-562 473,-562 473,-531 568,-531 568,-562\"/>\n",
       "<text text-anchor=\"middle\" x=\"520.5\" y=\"-538\" font-family=\"monospace\" font-size=\"10.00\"> (50, 128, 3)</text>\n",
       "</g>\n",
       "<!-- 140084667826000&#45;&gt;140084667807360 -->\n",
       "<g id=\"edge13\" class=\"edge\">\n",
       "<title>140084667826000&#45;&gt;140084667807360</title>\n",
       "<path fill=\"none\" stroke=\"black\" d=\"M495.14,-530.91C475.99,-519.9 449.9,-504.89 431.18,-494.12\"/>\n",
       "<polygon fill=\"black\" stroke=\"black\" points=\"432.8,-491.01 422.39,-489.06 429.31,-497.08 432.8,-491.01\"/>\n",
       "</g>\n",
       "<!-- 140084666078736 -->\n",
       "<g id=\"node16\" class=\"node\">\n",
       "<title>140084666078736</title>\n",
       "<polygon fill=\"orange\" stroke=\"black\" points=\"681,-562 586,-562 586,-531 681,-531 681,-562\"/>\n",
       "<text text-anchor=\"middle\" x=\"633.5\" y=\"-538\" font-family=\"monospace\" font-size=\"10.00\"> (50, 128, 3)</text>\n",
       "</g>\n",
       "<!-- 140084666078736&#45;&gt;140084667807360 -->\n",
       "<g id=\"edge14\" class=\"edge\">\n",
       "<title>140084666078736&#45;&gt;140084667807360</title>\n",
       "<path fill=\"none\" stroke=\"black\" d=\"M585.85,-531.79C544.6,-519.93 485.64,-502.97 446.98,-491.85\"/>\n",
       "<polygon fill=\"black\" stroke=\"black\" points=\"447.71,-488.42 437.13,-489.02 445.77,-495.15 447.71,-488.42\"/>\n",
       "</g>\n",
       "<!-- 140084666172224 -->\n",
       "<g id=\"node17\" class=\"node\">\n",
       "<title>140084666172224</title>\n",
       "<polygon fill=\"lightgrey\" stroke=\"black\" points=\"694,-489 593,-489 593,-470 694,-470 694,-489\"/>\n",
       "<text text-anchor=\"middle\" x=\"643.5\" y=\"-477\" font-family=\"monospace\" font-size=\"10.00\">AccumulateGrad</text>\n",
       "</g>\n",
       "<!-- 140084666172224&#45;&gt;140084667807904 -->\n",
       "<g id=\"edge15\" class=\"edge\">\n",
       "<title>140084666172224&#45;&gt;140084667807904</title>\n",
       "<path fill=\"none\" stroke=\"black\" d=\"M677.47,-469.99C685.66,-467.98 694.38,-465.88 702.5,-464 764.79,-449.57 836.77,-434.08 883.83,-424.12\"/>\n",
       "<polygon fill=\"black\" stroke=\"black\" points=\"884.71,-427.51 893.77,-422.02 883.27,-420.66 884.71,-427.51\"/>\n",
       "</g>\n",
       "<!-- 140085186114192 -->\n",
       "<g id=\"node18\" class=\"node\">\n",
       "<title>140085186114192</title>\n",
       "<polygon fill=\"lightblue\" stroke=\"black\" points=\"806,-561.5 699,-561.5 699,-531.5 806,-531.5 806,-561.5\"/>\n",
       "<text text-anchor=\"middle\" x=\"752.5\" y=\"-549.5\" font-family=\"monospace\" font-size=\"10.00\">layers.1.weight</text>\n",
       "<text text-anchor=\"middle\" x=\"752.5\" y=\"-538.5\" font-family=\"monospace\" font-size=\"10.00\"> (10, 3)</text>\n",
       "</g>\n",
       "<!-- 140085186114192&#45;&gt;140084666172224 -->\n",
       "<g id=\"edge16\" class=\"edge\">\n",
       "<title>140085186114192&#45;&gt;140084666172224</title>\n",
       "<path fill=\"none\" stroke=\"black\" d=\"M728.85,-531.4C710.32,-520.34 684.69,-505.06 666.36,-494.13\"/>\n",
       "<polygon fill=\"black\" stroke=\"black\" points=\"668.15,-491.12 657.77,-489.01 664.56,-497.13 668.15,-491.12\"/>\n",
       "</g>\n",
       "<!-- 140084667825520 -->\n",
       "<g id=\"node19\" class=\"node\">\n",
       "<title>140084667825520</title>\n",
       "<polygon fill=\"orange\" stroke=\"black\" points=\"807,-495 712,-495 712,-464 807,-464 807,-495\"/>\n",
       "<text text-anchor=\"middle\" x=\"759.5\" y=\"-471\" font-family=\"monospace\" font-size=\"10.00\"> (50, 128, 3)</text>\n",
       "</g>\n",
       "<!-- 140084667825520&#45;&gt;140084667807904 -->\n",
       "<g id=\"edge17\" class=\"edge\">\n",
       "<title>140084667825520&#45;&gt;140084667807904</title>\n",
       "<path fill=\"none\" stroke=\"black\" d=\"M798.77,-463.91C829.78,-452.39 872.55,-436.51 901.73,-425.67\"/>\n",
       "<polygon fill=\"black\" stroke=\"black\" points=\"903.29,-428.83 911.45,-422.06 900.85,-422.26 903.29,-428.83\"/>\n",
       "</g>\n",
       "<!-- 140084667825616 -->\n",
       "<g id=\"node20\" class=\"node\">\n",
       "<title>140084667825616</title>\n",
       "<polygon fill=\"orange\" stroke=\"black\" points=\"926,-495 825,-495 825,-464 926,-464 926,-495\"/>\n",
       "<text text-anchor=\"middle\" x=\"875.5\" y=\"-471\" font-family=\"monospace\" font-size=\"10.00\"> (50, 128, 10)</text>\n",
       "</g>\n",
       "<!-- 140084667825616&#45;&gt;140084667807904 -->\n",
       "<g id=\"edge18\" class=\"edge\">\n",
       "<title>140084667825616&#45;&gt;140084667807904</title>\n",
       "<path fill=\"none\" stroke=\"black\" d=\"M888.89,-463.75C898.12,-453.58 910.38,-440.07 919.87,-429.62\"/>\n",
       "<polygon fill=\"black\" stroke=\"black\" points=\"922.64,-431.78 926.77,-422.02 917.46,-427.07 922.64,-431.78\"/>\n",
       "</g>\n",
       "<!-- 140084667842736 -->\n",
       "<g id=\"node21\" class=\"node\">\n",
       "<title>140084667842736</title>\n",
       "<polygon fill=\"orange\" stroke=\"black\" points=\"1045,-495 944,-495 944,-464 1045,-464 1045,-495\"/>\n",
       "<text text-anchor=\"middle\" x=\"994.5\" y=\"-471\" font-family=\"monospace\" font-size=\"10.00\"> (50, 128, 10)</text>\n",
       "</g>\n",
       "<!-- 140084667842736&#45;&gt;140084667807904 -->\n",
       "<g id=\"edge19\" class=\"edge\">\n",
       "<title>140084667842736&#45;&gt;140084667807904</title>\n",
       "<path fill=\"none\" stroke=\"black\" d=\"M980.89,-463.75C971.5,-453.58 959.03,-440.07 949.38,-429.62\"/>\n",
       "<polygon fill=\"black\" stroke=\"black\" points=\"951.72,-426.99 942.36,-422.02 946.57,-431.74 951.72,-426.99\"/>\n",
       "</g>\n",
       "<!-- 140084667826096 -->\n",
       "<g id=\"node22\" class=\"node\">\n",
       "<title>140084667826096</title>\n",
       "<polygon fill=\"orange\" stroke=\"black\" points=\"1164,-495 1063,-495 1063,-464 1164,-464 1164,-495\"/>\n",
       "<text text-anchor=\"middle\" x=\"1113.5\" y=\"-471\" font-family=\"monospace\" font-size=\"10.00\"> (50, 128, 10)</text>\n",
       "</g>\n",
       "<!-- 140084667826096&#45;&gt;140084667807904 -->\n",
       "<g id=\"edge20\" class=\"edge\">\n",
       "<title>140084667826096&#45;&gt;140084667807904</title>\n",
       "<path fill=\"none\" stroke=\"black\" d=\"M1073.33,-463.91C1041.47,-452.34 997.49,-436.37 967.63,-425.53\"/>\n",
       "<polygon fill=\"black\" stroke=\"black\" points=\"968.67,-422.19 958.08,-422.06 966.28,-428.77 968.67,-422.19\"/>\n",
       "</g>\n",
       "<!-- 140084666079504 -->\n",
       "<g id=\"node23\" class=\"node\">\n",
       "<title>140084666079504</title>\n",
       "<polygon fill=\"orange\" stroke=\"black\" points=\"1259,-495 1182,-495 1182,-464 1259,-464 1259,-495\"/>\n",
       "<text text-anchor=\"middle\" x=\"1220.5\" y=\"-471\" font-family=\"monospace\" font-size=\"10.00\"> (128, 10)</text>\n",
       "</g>\n",
       "<!-- 140084666079504&#45;&gt;140084667808992 -->\n",
       "<g id=\"edge22\" class=\"edge\">\n",
       "<title>140084666079504&#45;&gt;140084667808992</title>\n",
       "<path fill=\"none\" stroke=\"black\" d=\"M1185.74,-463.98C1169.76,-455.65 1151.87,-443.69 1140.5,-428 1128.38,-411.28 1123.96,-387.63 1122.37,-371.28\"/>\n",
       "<polygon fill=\"black\" stroke=\"black\" points=\"1125.86,-371.02 1121.65,-361.3 1118.87,-371.52 1125.86,-371.02\"/>\n",
       "</g>\n",
       "<!-- 140084666079504&#45;&gt;140084667807904 -->\n",
       "<g id=\"edge21\" class=\"edge\">\n",
       "<title>140084666079504&#45;&gt;140084667807904</title>\n",
       "<path fill=\"none\" stroke=\"black\" d=\"M1181.81,-466.51C1178.67,-465.63 1175.54,-464.78 1172.5,-464 1110.62,-448.12 1038.79,-433.38 990.36,-423.97\"/>\n",
       "<polygon fill=\"black\" stroke=\"black\" points=\"990.87,-420.51 980.39,-422.05 989.55,-427.38 990.87,-420.51\"/>\n",
       "</g>\n",
       "<!-- 140084667842640 -->\n",
       "<g id=\"node24\" class=\"node\">\n",
       "<title>140084667842640</title>\n",
       "<polygon fill=\"orange\" stroke=\"black\" points=\"1251,-428 1150,-428 1150,-397 1251,-397 1251,-428\"/>\n",
       "<text text-anchor=\"middle\" x=\"1200.5\" y=\"-404\" font-family=\"monospace\" font-size=\"10.00\"> (50, 128, 10)</text>\n",
       "</g>\n",
       "<!-- 140084667842640&#45;&gt;140084667808992 -->\n",
       "<g id=\"edge23\" class=\"edge\">\n",
       "<title>140084667842640&#45;&gt;140084667808992</title>\n",
       "<path fill=\"none\" stroke=\"black\" d=\"M1180.97,-396.92C1168.91,-387.91 1153.48,-376.39 1141.36,-367.33\"/>\n",
       "<polygon fill=\"black\" stroke=\"black\" points=\"1143.32,-364.43 1133.22,-361.25 1139.13,-370.04 1143.32,-364.43\"/>\n",
       "</g>\n",
       "</g>\n",
       "</svg>\n"
      ],
      "text/plain": [
       "<graphviz.graphs.Digraph at 0x7f6800d924d0>"
      ]
     },
     "execution_count": 14,
     "metadata": {},
     "output_type": "execute_result"
    }
   ],
   "source": [
    "from torchviz import make_dot\n",
    "make_dot(loss, params=dict(eventprop_model.named_parameters()))"
   ]
  },
  {
   "cell_type": "code",
   "execution_count": 15,
   "metadata": {},
   "outputs": [
    {
     "ename": "KeyError",
     "evalue": "0",
     "output_type": "error",
     "traceback": [
      "\u001b[0;31m---------------------------------------------------------------------------\u001b[0m",
      "\u001b[0;31mKeyError\u001b[0m                                  Traceback (most recent call last)",
      "Cell \u001b[0;32mIn[15], line 17\u001b[0m\n\u001b[1;32m     15\u001b[0m \u001b[38;5;28;01mfor\u001b[39;00m (ax_model, (name, out)) \u001b[38;5;129;01min\u001b[39;00m \u001b[38;5;28mzip\u001b[39m(axs, outs\u001b[38;5;241m.\u001b[39mitems()):\n\u001b[1;32m     16\u001b[0m     \u001b[38;5;28;01mfor\u001b[39;00m l, ax \u001b[38;5;129;01min\u001b[39;00m \u001b[38;5;28menumerate\u001b[39m(ax_model):\n\u001b[0;32m---> 17\u001b[0m         voltages \u001b[38;5;241m=\u001b[39m out[\u001b[38;5;241m1\u001b[39m][l][\u001b[38;5;124m'\u001b[39m\u001b[38;5;124mV\u001b[39m\u001b[38;5;124m'\u001b[39m][:, \u001b[38;5;241m0\u001b[39m]\u001b[38;5;241m.\u001b[39mcpu()\u001b[38;5;241m.\u001b[39mdetach()\u001b[38;5;241m.\u001b[39mnumpy()\n\u001b[1;32m     18\u001b[0m         out_spikes \u001b[38;5;241m=\u001b[39m out[\u001b[38;5;241m1\u001b[39m][l][\u001b[38;5;124m'\u001b[39m\u001b[38;5;124moutput\u001b[39m\u001b[38;5;124m'\u001b[39m][:, \u001b[38;5;241m0\u001b[39m]\u001b[38;5;241m.\u001b[39mcpu()\u001b[38;5;241m.\u001b[39mdetach()\u001b[38;5;241m.\u001b[39mnumpy()\n\u001b[1;32m     19\u001b[0m         sns\u001b[38;5;241m.\u001b[39mlineplot(voltages, palette\u001b[38;5;241m=\u001b[39m\u001b[38;5;124m\"\u001b[39m\u001b[38;5;124mviridis\u001b[39m\u001b[38;5;124m\"\u001b[39m, ax\u001b[38;5;241m=\u001b[39max)\n",
      "\u001b[0;31mKeyError\u001b[0m: 0"
     ]
    },
    {
     "data": {
      "image/png": "[encoded data removed]",
      "text/plain": [
       "<Figure size 1200x700 with 4 Axes>"
      ]
     },
     "metadata": {},
     "output_type": "display_data"
    }
   ],
   "source": [
    "n_layers = len(models['eventprop'].layers)\n",
    "fig, axs = plt.subplots(\n",
    "    n_layers, 2, figsize=(12, 3.5 * n_layers), sharex=True, sharey=False, constrained_layout=True\n",
    ")\n",
    "try : \n",
    "    axs[0]\n",
    "except TypeError : \n",
    "    axs = np.array(axs)[None, :]\n",
    "try : \n",
    "    axs[0][0]\n",
    "except TypeError :\n",
    "    axs = np.array(axs)[:, None]\n",
    "\n",
    "\n",
    "for (ax_model, (name, out)) in zip(axs, outs.items()):\n",
    "    for l, ax in enumerate(ax_model):\n",
    "        voltages = out[1][l]['V'][:, 0].cpu().detach().numpy()\n",
    "        out_spikes = out[1][l]['output'][:, 0].cpu().detach().numpy()\n",
    "        sns.lineplot(voltages, palette=\"viridis\", ax=ax)\n",
    "        sns.scatterplot(\n",
    "            x=np.where(out_spikes)[0],\n",
    "            y=np.ones_like(np.where(out_spikes)[0]),\n",
    "            ax=ax,\n",
    "            color=\"black\",\n",
    "        )\n",
    "        ax.set_title(f\"{name} : layer {l}\")\n",
    "        ax.legend().remove()"
   ]
  },
  {
   "cell_type": "code",
   "execution_count": 16,
   "metadata": {},
   "outputs": [],
   "source": [
    "losses = {}"
   ]
  },
  {
   "cell_type": "code",
   "execution_count": 17,
   "metadata": {},
   "outputs": [
    {
     "ename": "KeyboardInterrupt",
     "evalue": "",
     "output_type": "error",
     "traceback": [
      "\u001b[0;31m---------------------------------------------------------------------------\u001b[0m",
      "\u001b[0;31mKeyboardInterrupt\u001b[0m                         Traceback (most recent call last)",
      "Cell \u001b[0;32mIn[17], line 1\u001b[0m\n\u001b[0;32m----> 1\u001b[0m \u001b[38;5;28;01mraise\u001b[39;00m \u001b[38;5;167;01mKeyboardInterrupt\u001b[39;00m\n",
      "\u001b[0;31mKeyboardInterrupt\u001b[0m: "
     ]
    }
   ],
   "source": [
    "raise KeyboardInterrupt"
   ]
  },
  {
   "cell_type": "markdown",
   "metadata": {},
   "source": [
    "### Firing rates check"
   ]
  },
  {
   "cell_type": "code",
   "execution_count": null,
   "metadata": {},
   "outputs": [],
   "source": [
    "if False : \n",
    "    counts = [0, 0]\n",
    "    frs = [0, 0]\n",
    "    n_batch = len(train_loader)\n",
    "    for (data, target), _ in zip(tqdm(train_loader, total=n_batch), range(n_batch)):\n",
    "        data, target = data.to(device), target.to(device)\n",
    "        spikes_data = encode_data(data, data_config)\n",
    "        snn_out = models[\"snntorch\"](spikes_data)\n",
    "        event_out = models[\"eventprop\"](spikes_data)\n",
    "        counts = [\n",
    "            c + out[0].unique(return_counts=True)[1]\n",
    "            for c, out in zip(counts, [snn_out, event_out])\n",
    "        ]\n",
    "        for f, s in enumerate([snn_out, event_out]):\n",
    "            frs[f] += s[0].float().sum(0).mean(0)\n",
    "    frs = torch.stack(frs) / n_batch\n",
    "    frs, counts"
   ]
  },
  {
   "cell_type": "code",
   "execution_count": null,
   "metadata": {},
   "outputs": [
    {
     "ename": "KeyboardInterrupt",
     "evalue": "",
     "output_type": "error",
     "traceback": [
      "\u001b[0;31m---------------------------------------------------------------------------\u001b[0m",
      "\u001b[0;31mKeyboardInterrupt\u001b[0m                         Traceback (most recent call last)",
      "\u001b[1;32m/home/gbena/SpiNNCloud/Code/SNN/pytorch-eventprop/scripts/model_comparison.ipynb Cell 18\u001b[0m line \u001b[0;36m1\n\u001b[0;32m----> <a href='vscode-notebook-cell://wsl%2Bubuntu/home/gbena/SpiNNCloud/Code/SNN/pytorch-eventprop/scripts/model_comparison.ipynb#X23sdnNjb2RlLXJlbW90ZQ%3D%3D?line=0'>1</a>\u001b[0m \u001b[39mraise\u001b[39;00m \u001b[39mKeyboardInterrupt\u001b[39;00m\n",
      "\u001b[0;31mKeyboardInterrupt\u001b[0m: "
     ]
    }
   ],
   "source": [
    "raise KeyboardInterrupt"
   ]
  },
  {
   "cell_type": "markdown",
   "metadata": {},
   "source": [
    "## Training"
   ]
  },
  {
   "cell_type": "code",
   "execution_count": null,
   "metadata": {},
   "outputs": [],
   "source": [
    "from eventprop.training import train_single_model, test\n",
    "from snntorch.functional.loss import (\n",
    "    ce_temporal_loss,\n",
    "    SpikeTime,\n",
    "    ce_rate_loss,\n",
    "    ce_count_loss,\n",
    ")\n"
   ]
  },
  {
   "cell_type": "code",
   "execution_count": null,
   "metadata": {},
   "outputs": [],
   "source": [
    "first_spike_fn = SpikeTime().first_spike_fn\n",
    "training_config = {\n",
    "    \"n_epochs\": 2,\n",
    "    \"loss\": \"ce_temporal\",\n",
    "    \"first_spike_fn\": first_spike_fn,\n",
    "    'alpha' : 0.\n",
    "}\n",
    "\n",
    "optim_config = {\"lr\": 1e-3, \"weight_decay\": 0, \"optimizer\": \"adam\"}\n",
    "\n",
    "optimizers_type = {\"adam\": torch.optim.Adam, \"sgd\": torch.optim.SGD}\n",
    "optimizers = {\n",
    "    n: optimizers_type[optim_config[\"optimizer\"]](\n",
    "        model.parameters(),\n",
    "        lr=optim_config[\"lr\"],\n",
    "        weight_decay=optim_config[\"weight_decay\"],\n",
    "    )\n",
    "    for n, model in models.items()\n",
    "}"
   ]
  },
  {
   "cell_type": "code",
   "execution_count": null,
   "metadata": {},
   "outputs": [],
   "source": [
    "def get_flat_dict_from_nested(config):\n",
    "    flat_dict = {}\n",
    "    for key, value in config.items():\n",
    "        if isinstance(value, dict):\n",
    "            flat_dict.update(get_flat_dict_from_nested(value))\n",
    "        else:\n",
    "            flat_dict[key] = value\n",
    "    return flat_dict"
   ]
  },
  {
   "cell_type": "code",
   "execution_count": null,
   "metadata": {},
   "outputs": [],
   "source": [
    "config = {\n",
    "    \"data\": data_config,\n",
    "    \"model\": model_config,\n",
    "    \"training\": training_config,\n",
    "    \"optim\": optim_config,\n",
    "}\n",
    "flat_config = get_flat_dict_from_nested(config)\n"
   ]
  },
  {
   "cell_type": "code",
   "execution_count": null,
   "metadata": {},
   "outputs": [],
   "source": [
    "args = argparse.Namespace(**flat_config)"
   ]
  },
  {
   "cell_type": "code",
   "execution_count": null,
   "metadata": {},
   "outputs": [],
   "source": [
    "loaders = {\"train\": train_loader, \"test\": test_loader}\n",
    "\n",
    "if args.loss == \"ce_temporal\":\n",
    "    criterion = ce_temporal_loss()\n",
    "elif args.loss == \"ce_rate\":\n",
    "    criterion = ce_rate_loss()\n",
    "elif args.loss == \"ce_count\":\n",
    "    criterion = ce_count_loss()\n",
    "else:\n",
    "    raise ValueError(\"Invalid loss type\")"
   ]
  },
  {
   "cell_type": "code",
   "execution_count": null,
   "metadata": {},
   "outputs": [
    {
     "data": {
      "application/vnd.jupyter.widget-view+json": {
       "model_id": "515c7310350e45a9a26d7de92c2e8888",
       "version_major": 2,
       "version_minor": 0
      },
      "text/plain": [
       "|:   0%|          | 0/2 [00:00<?, ?it/s]"
      ]
     },
     "metadata": {},
     "output_type": "display_data"
    },
    {
     "data": {
      "application/vnd.jupyter.widget-view+json": {
       "model_id": "0d0bd1596c604f42a9bbe4af06539def",
       "version_major": 2,
       "version_minor": 0
      },
      "text/plain": [
       "|:   0%|          | 0/2 [00:00<?, ?it/s]"
      ]
     },
     "metadata": {},
     "output_type": "display_data"
    },
    {
     "ename": "RuntimeError",
     "evalue": "element 0 of tensors does not require grad and does not have a grad_fn",
     "output_type": "error",
     "traceback": [
      "\u001b[0;31m---------------------------------------------------------------------------\u001b[0m",
      "\u001b[0;31mRuntimeError\u001b[0m                              Traceback (most recent call last)",
      "Cell \u001b[0;32mIn[26], line 1\u001b[0m\n\u001b[0;32m----> 1\u001b[0m train_results \u001b[38;5;241m=\u001b[39m {\n\u001b[1;32m      2\u001b[0m     n: train_single_model(\n\u001b[1;32m      3\u001b[0m         model, criterion, optimizers[n], loaders, args, first_spike_fn\u001b[38;5;241m=\u001b[39mfirst_spike_fn, use_wandb\u001b[38;5;241m=\u001b[39m\u001b[38;5;28;01mFalse\u001b[39;00m\n\u001b[1;32m      4\u001b[0m     )\n\u001b[1;32m      5\u001b[0m     \u001b[38;5;28;01mfor\u001b[39;00m n, model \u001b[38;5;129;01min\u001b[39;00m models\u001b[38;5;241m.\u001b[39mitems()\n\u001b[1;32m      6\u001b[0m }\n",
      "Cell \u001b[0;32mIn[26], line 2\u001b[0m, in \u001b[0;36m<dictcomp>\u001b[0;34m(.0)\u001b[0m\n\u001b[1;32m      1\u001b[0m train_results \u001b[38;5;241m=\u001b[39m {\n\u001b[0;32m----> 2\u001b[0m     n: train_single_model(\n\u001b[1;32m      3\u001b[0m         model, criterion, optimizers[n], loaders, args, first_spike_fn\u001b[38;5;241m=\u001b[39mfirst_spike_fn, use_wandb\u001b[38;5;241m=\u001b[39m\u001b[38;5;28;01mFalse\u001b[39;00m\n\u001b[1;32m      4\u001b[0m     )\n\u001b[1;32m      5\u001b[0m     \u001b[38;5;28;01mfor\u001b[39;00m n, model \u001b[38;5;129;01min\u001b[39;00m models\u001b[38;5;241m.\u001b[39mitems()\n\u001b[1;32m      6\u001b[0m }\n",
      "File \u001b[0;32m~/code/SNN/pytorch-eventprop/eventprop/training.py:244\u001b[0m, in \u001b[0;36mtrain_single_model\u001b[0;34m(model, criterion, optimizer, loaders, args, first_spike_fn, use_tqdm, use_wandb, scheduler)\u001b[0m\n\u001b[1;32m    242\u001b[0m \u001b[38;5;28;01mfor\u001b[39;00m epoch \u001b[38;5;129;01min\u001b[39;00m pbar:\n\u001b[1;32m    243\u001b[0m     \u001b[38;5;28;01mif\u001b[39;00m epoch \u001b[38;5;241m>\u001b[39m \u001b[38;5;241m0\u001b[39m:\n\u001b[0;32m--> 244\u001b[0m         train_loss, train_acc \u001b[38;5;241m=\u001b[39m train(\n\u001b[1;32m    245\u001b[0m             model,\n\u001b[1;32m    246\u001b[0m             criterion,\n\u001b[1;32m    247\u001b[0m             optimizer,\n\u001b[1;32m    248\u001b[0m             loaders[\u001b[38;5;124m\"\u001b[39m\u001b[38;5;124mtrain\u001b[39m\u001b[38;5;124m\"\u001b[39m],\n\u001b[1;32m    249\u001b[0m             args,\n\u001b[1;32m    250\u001b[0m             first_spike_fn\u001b[38;5;241m=\u001b[39mfirst_spike_fn,\n\u001b[1;32m    251\u001b[0m             pbar\u001b[38;5;241m=\u001b[39mpbar,\n\u001b[1;32m    252\u001b[0m             scheduler\u001b[38;5;241m=\u001b[39mscheduler,\n\u001b[1;32m    253\u001b[0m         )\n\u001b[1;32m    254\u001b[0m     \u001b[38;5;28;01melse\u001b[39;00m:\n\u001b[1;32m    255\u001b[0m         train_loss, train_acc \u001b[38;5;241m=\u001b[39m \u001b[38;5;28;01mNone\u001b[39;00m, \u001b[38;5;28;01mNone\u001b[39;00m\n",
      "File \u001b[0;32m~/code/SNN/pytorch-eventprop/eventprop/training.py:130\u001b[0m, in \u001b[0;36mtrain\u001b[0;34m(model, criterion, optimizer, loader, args, first_spike_fn, pbar, scheduler)\u001b[0m\n\u001b[1;32m    126\u001b[0m total_samples\u001b[38;5;241m.\u001b[39mappend(\u001b[38;5;28mlen\u001b[39m(target))\n\u001b[1;32m    128\u001b[0m optimizer\u001b[38;5;241m.\u001b[39mzero_grad()\n\u001b[0;32m--> 130\u001b[0m loss\u001b[38;5;241m.\u001b[39mbackward()\n\u001b[1;32m    132\u001b[0m optimizer\u001b[38;5;241m.\u001b[39mstep()\n\u001b[1;32m    133\u001b[0m \u001b[38;5;28;01mif\u001b[39;00m scheduler \u001b[38;5;129;01mis\u001b[39;00m \u001b[38;5;129;01mnot\u001b[39;00m \u001b[38;5;28;01mNone\u001b[39;00m:\n",
      "File \u001b[0;32m~/.conda/envs/ev_torch/lib/python3.11/site-packages/torch/_tensor.py:492\u001b[0m, in \u001b[0;36mTensor.backward\u001b[0;34m(self, gradient, retain_graph, create_graph, inputs)\u001b[0m\n\u001b[1;32m    482\u001b[0m \u001b[38;5;28;01mif\u001b[39;00m has_torch_function_unary(\u001b[38;5;28mself\u001b[39m):\n\u001b[1;32m    483\u001b[0m     \u001b[38;5;28;01mreturn\u001b[39;00m handle_torch_function(\n\u001b[1;32m    484\u001b[0m         Tensor\u001b[38;5;241m.\u001b[39mbackward,\n\u001b[1;32m    485\u001b[0m         (\u001b[38;5;28mself\u001b[39m,),\n\u001b[0;32m   (...)\u001b[0m\n\u001b[1;32m    490\u001b[0m         inputs\u001b[38;5;241m=\u001b[39minputs,\n\u001b[1;32m    491\u001b[0m     )\n\u001b[0;32m--> 492\u001b[0m torch\u001b[38;5;241m.\u001b[39mautograd\u001b[38;5;241m.\u001b[39mbackward(\n\u001b[1;32m    493\u001b[0m     \u001b[38;5;28mself\u001b[39m, gradient, retain_graph, create_graph, inputs\u001b[38;5;241m=\u001b[39minputs\n\u001b[1;32m    494\u001b[0m )\n",
      "File \u001b[0;32m~/.conda/envs/ev_torch/lib/python3.11/site-packages/torch/autograd/__init__.py:251\u001b[0m, in \u001b[0;36mbackward\u001b[0;34m(tensors, grad_tensors, retain_graph, create_graph, grad_variables, inputs)\u001b[0m\n\u001b[1;32m    246\u001b[0m     retain_graph \u001b[38;5;241m=\u001b[39m create_graph\n\u001b[1;32m    248\u001b[0m \u001b[38;5;66;03m# The reason we repeat the same comment below is that\u001b[39;00m\n\u001b[1;32m    249\u001b[0m \u001b[38;5;66;03m# some Python versions print out the first line of a multi-line function\u001b[39;00m\n\u001b[1;32m    250\u001b[0m \u001b[38;5;66;03m# calls in the traceback and some print out the last line\u001b[39;00m\n\u001b[0;32m--> 251\u001b[0m Variable\u001b[38;5;241m.\u001b[39m_execution_engine\u001b[38;5;241m.\u001b[39mrun_backward(  \u001b[38;5;66;03m# Calls into the C++ engine to run the backward pass\u001b[39;00m\n\u001b[1;32m    252\u001b[0m     tensors,\n\u001b[1;32m    253\u001b[0m     grad_tensors_,\n\u001b[1;32m    254\u001b[0m     retain_graph,\n\u001b[1;32m    255\u001b[0m     create_graph,\n\u001b[1;32m    256\u001b[0m     inputs,\n\u001b[1;32m    257\u001b[0m     allow_unreachable\u001b[38;5;241m=\u001b[39m\u001b[38;5;28;01mTrue\u001b[39;00m,\n\u001b[1;32m    258\u001b[0m     accumulate_grad\u001b[38;5;241m=\u001b[39m\u001b[38;5;28;01mTrue\u001b[39;00m,\n\u001b[1;32m    259\u001b[0m )\n",
      "\u001b[0;31mRuntimeError\u001b[0m: element 0 of tensors does not require grad and does not have a grad_fn"
     ]
    }
   ],
   "source": [
    "train_results = {\n",
    "    n: train_single_model(\n",
    "        model, criterion, optimizers[n], loaders, args, first_spike_fn=first_spike_fn, use_wandb=False\n",
    "    )\n",
    "    for n, model in models.items()\n",
    "}"
   ]
  },
  {
   "cell_type": "code",
   "execution_count": null,
   "metadata": {},
   "outputs": [],
   "source": [
    "import wandb"
   ]
  },
  {
   "cell_type": "code",
   "execution_count": null,
   "metadata": {},
   "outputs": [
    {
     "data": {
      "text/plain": [
       "'u3rvbc03'"
      ]
     },
     "execution_count": 25,
     "metadata": {},
     "output_type": "execute_result"
    }
   ],
   "source": [
    "wandb.run.id"
   ]
  },
  {
   "cell_type": "code",
   "execution_count": null,
   "metadata": {},
   "outputs": [],
   "source": [
    "from itertools import product"
   ]
  },
  {
   "cell_type": "code",
   "execution_count": null,
   "metadata": {},
   "outputs": [],
   "source": [
    "plot_data = {}\n",
    "for name, results in train_results.items():\n",
    "    for trial, metric in product([\"train\", \"test\"], [\"loss\", \"acc\"]):\n",
    "        plot_data.setdefault(f\"{trial}_{metric}\", [])\n",
    "        plot_data[f\"{trial}_{metric}\"].extend(results[f\"{trial}_{metric}\"])\n",
    "    plot_data.setdefault(\"epoch\", [])\n",
    "    plot_data[\"epoch\"].extend(np.arange(len(results[f\"{trial}_{metric}\"])))\n",
    "    plot_data.setdefault(\"model\", [])\n",
    "    plot_data[\"model\"].extend([name] * len(results[f\"{trial}_{metric}\"]))"
   ]
  },
  {
   "cell_type": "code",
   "execution_count": null,
   "metadata": {},
   "outputs": [
    {
     "ename": "NameError",
     "evalue": "name 'plot_data' is not defined",
     "output_type": "error",
     "traceback": [
      "\u001b[0;31m---------------------------------------------------------------------------\u001b[0m",
      "\u001b[0;31mNameError\u001b[0m                                 Traceback (most recent call last)",
      "Cell \u001b[0;32mIn[44], line 1\u001b[0m\n\u001b[0;32m----> 1\u001b[0m plot_data\n",
      "\u001b[0;31mNameError\u001b[0m: name 'plot_data' is not defined"
     ]
    }
   ],
   "source": [
    "plot_data"
   ]
  },
  {
   "cell_type": "markdown",
   "metadata": {},
   "source": [
    "### Initialization"
   ]
  },
  {
   "cell_type": "code",
   "execution_count": null,
   "metadata": {},
   "outputs": [],
   "source": [
    "from eventprop.initalization import FluctuationDrivenCenteredNormalInitializer"
   ]
  },
  {
   "cell_type": "code",
   "execution_count": null,
   "metadata": {},
   "outputs": [
    {
     "ename": "KeyError",
     "evalue": "'synthetic'",
     "output_type": "error",
     "traceback": [
      "\u001b[0;31m---------------------------------------------------------------------------\u001b[0m\n",
      "\u001b[0;31mKeyError\u001b[0m                                  Traceback (most recent call last)\n",
      "Cell \u001b[0;32mIn[43], line 36\u001b[0m\n",
      "\u001b[1;32m     15\u001b[0m initializer \u001b[38;5;241m=\u001b[39m FluctuationDrivenCenteredNormalInitializer(\n",
      "\u001b[1;32m     16\u001b[0m     sigma_u\u001b[38;5;241m=\u001b[39msigma_nu, nu\u001b[38;5;241m=\u001b[39mnu, timestep\u001b[38;5;241m=\u001b[39mdt\n",
      "\u001b[1;32m     17\u001b[0m )\n",
      "\u001b[1;32m     19\u001b[0m fluctuation_params \u001b[38;5;241m=\u001b[39m {\n",
      "\u001b[1;32m     20\u001b[0m     name: {\n",
      "\u001b[1;32m     21\u001b[0m         k: v\n",
      "\u001b[0;32m   (...)\u001b[0m\n",
      "\u001b[1;32m     34\u001b[0m     \u001b[38;5;28;01mfor\u001b[39;00m name, model \u001b[38;5;129;01min\u001b[39;00m models\u001b[38;5;241m.\u001b[39mitems()\n",
      "\u001b[1;32m     35\u001b[0m }\n",
      "\u001b[0;32m---> 36\u001b[0m paper_params[data_config[\u001b[38;5;124m\"\u001b[39m\u001b[38;5;124mdataset\u001b[39m\u001b[38;5;124m\"\u001b[39m]], fluctuation_params[\u001b[38;5;124m'\u001b[39m\u001b[38;5;124meventprop\u001b[39m\u001b[38;5;124m'\u001b[39m], k_aiming_params\n",
      "\n",
      "\u001b[0;31mKeyError\u001b[0m: 'synthetic'"
     ]
    }
   ],
   "source": [
    "paper_params = {\n",
    "    \"mnist\": {\n",
    "        \"mu\": [0.078, 0.2],\n",
    "        \"sigma\": [0.045, 0.37],\n",
    "    },\n",
    "    \"ying_yang\": {\"mu\": [1.5, 0.78], \"sigma\": [0.93, 0.1]},\n",
    "}\n",
    "k_aiming_params = {\"mu\": [0, 0], \"sigma\": [1 / np.sqrt(d) for d in dims[:-1]]}\n",
    "\n",
    "dt, T = data_config[\"dt\"], data_config[\"T\"]\n",
    "\n",
    "xi = 3\n",
    "sigma_nu, nu = 1/xi, 15\n",
    "\n",
    "initializer = FluctuationDrivenCenteredNormalInitializer(\n",
    "    sigma_u=sigma_nu, nu=nu, timestep=dt\n",
    ")\n",
    "\n",
    "fluctuation_params = {\n",
    "    name: {\n",
    "        k: v\n",
    "        for k, v in zip(\n",
    "            [\"mu\", \"sigma\"],\n",
    "            list(\n",
    "                zip(\n",
    "                    *[\n",
    "                        initializer._get_weight_parameters_con(layer)\n",
    "                        for layer in model.cpu().layers\n",
    "                    ]\n",
    "                )\n",
    "            ),\n",
    "        )\n",
    "    }\n",
    "    for name, model in models.items()\n",
    "}\n",
    "paper_params[data_config[\"dataset\"]], fluctuation_params['eventprop'], k_aiming_params    "
   ]
  }
 ],
 "metadata": {
  "kernelspec": {
   "display_name": "snntorch",
   "language": "python",
   "name": "python3"
  },
  "language_info": {
   "codemirror_mode": {
    "name": "ipython",
    "version": 3
   },
   "file_extension": ".py",
   "mimetype": "text/x-python",
   "name": "python",
   "nbconvert_exporter": "python",
   "pygments_lexer": "ipython3",
   "version": "3.11.5"
  }
 },
 "nbformat": 4,
 "nbformat_minor": 2
}
