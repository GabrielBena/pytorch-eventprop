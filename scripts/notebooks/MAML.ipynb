{
 "cells": [
  {
   "cell_type": "markdown",
   "metadata": {},
   "source": [
    "# Meta-Training SNNs using MAML"
   ]
  },
  {
   "cell_type": "code",
   "execution_count": 2,
   "metadata": {},
   "outputs": [],
   "source": [
    "import matplotlib.pyplot as plt\n",
    "import numpy as np\n",
    "\n",
    "import torch\n",
    "from torchvision import datasets, transforms\n",
    "\n",
    "from yingyang.dataset import YinYangDataset\n",
    "\n",
    "import random\n",
    "from tqdm.notebook import tqdm\n",
    "import pandas as pd\n",
    "import seaborn as sns\n",
    "import argparse"
   ]
  },
  {
   "cell_type": "code",
   "execution_count": 3,
   "metadata": {},
   "outputs": [],
   "source": [
    "%load_ext autoreload\n",
    "%autoreload 2"
   ]
  },
  {
   "cell_type": "markdown",
   "metadata": {},
   "source": [
    "## Data and Config"
   ]
  },
  {
   "cell_type": "code",
   "execution_count": 4,
   "metadata": {},
   "outputs": [],
   "source": [
    "from eventprop.config import get_flat_dict_from_nested"
   ]
  },
  {
   "cell_type": "code",
   "execution_count": 5,
   "metadata": {},
   "outputs": [],
   "source": [
    "data_config = {\n",
    "    \"seed\": 42,\n",
    "    \"dataset\": \"ying_yang\",\n",
    "    \"deterministic\": True,\n",
    "    \"batch_size\": 128,\n",
    "    \"encoding\": \"latency\",\n",
    "    \"T\": 50,\n",
    "    \"dt\": 1e-3,\n",
    "    \"t_min\": 2,\n",
    "    \"data_folder\": \"../../../data/\",\n",
    "}"
   ]
  },
  {
   "cell_type": "code",
   "execution_count": 6,
   "metadata": {},
   "outputs": [],
   "source": [
    "torch.manual_seed(data_config[\"seed\"])\n",
    "np.random.seed(data_config[\"seed\"])\n",
    "random.seed(data_config[\"seed\"])\n",
    "\n",
    "data_config[\"dataset\"] = data_config[\"dataset\"]\n",
    "if data_config[\"deterministic\"]:\n",
    "    torch.backends.cudnn.deterministic = True\n",
    "    torch.backends.cudnn.benchmark = False\n",
    "\n",
    "if data_config[\"dataset\"] == \"mnist\":\n",
    "    train_dataset = datasets.MNIST(\n",
    "        data_config[\"data_folder\"],\n",
    "        train=True,\n",
    "        download=True,\n",
    "        transform=transforms.ToTensor(),\n",
    "    )\n",
    "    test_dataset = datasets.MNIST(\n",
    "        data_config[\"data_folder\"],\n",
    "        train=False,\n",
    "        download=True,\n",
    "        transform=transforms.ToTensor(),\n",
    "    )\n",
    "    \n",
    "elif data_config[\"dataset\"] == \"ying_yang\":\n",
    "    train_dataset = YinYangDataset(size=1000, seed=data_config[\"seed\"])\n",
    "    test_dataset = YinYangDataset(size=1000, seed=data_config[\"seed\"] + 2)\n",
    "\n",
    "elif data_config[\"dataset\"] == \"synthetic\":\n",
    "    in_dim = 2\n",
    "    input_spike_times = {\n",
    "        k: (\n",
    "            np.random.choice(np.arange(int(data_config[\"T\"]) - 1), size=5)\n",
    "            * (1e-3 / data_config[\"dt\"])\n",
    "        ).astype(int)\n",
    "        for k in range(in_dim)\n",
    "    }\n",
    "    input_spikes = np.zeros((data_config[\"T\"], 1, in_dim))\n",
    "    for n, times in input_spike_times.items():\n",
    "        input_spikes[times, 0, n] = 1\n",
    "\n",
    "else:\n",
    "    raise ValueError(\"Invalid dataset name\")\n"
   ]
  },
  {
   "cell_type": "markdown",
   "metadata": {},
   "source": [
    "## Rotation Ying Yang data for Meta Learning"
   ]
  },
  {
   "cell_type": "code",
   "execution_count": 7,
   "metadata": {},
   "outputs": [],
   "source": [
    "train_rotations = np.linspace(0, np.pi/2, 45)\n",
    "test_rotations = np.linspace(np.pi/2, np.pi, 45)"
   ]
  },
  {
   "cell_type": "code",
   "execution_count": 5,
   "metadata": {},
   "outputs": [],
   "source": [
    "from torchmeta.utils.data import BatchMetaDataLoader\n"
   ]
  },
  {
   "cell_type": "markdown",
   "metadata": {},
   "source": [
    "## Models"
   ]
  },
  {
   "cell_type": "code",
   "execution_count": 6,
   "metadata": {},
   "outputs": [],
   "source": [
    "from eventprop.models import SNN"
   ]
  },
  {
   "cell_type": "code",
   "execution_count": null,
   "metadata": {},
   "outputs": [],
   "source": [
    "device = torch.device(\"cuda\" if torch.cuda.is_available() else \"cpu\")\n",
    "model_config = {\n",
    "    \"model_type\": None,  # will be set later\n",
    "    \"snn\": {\n",
    "        \"T\": data_config[\"T\"],\n",
    "        \"dt\": data_config[\"dt\"],\n",
    "        \"tau_m\": 20e-3,\n",
    "        \"tau_s\": 5e-3,\n",
    "    },\n",
    "    \"weights\": {\n",
    "        \"init_mode\": \"kaiming_both\",\n",
    "        \"scale\": 5.5,\n",
    "        \"seed\": data_config[\"seed\"],\n",
    "        # \"mu\": paper_params[data_config[\"dataset\"]][\"mu\"],\n",
    "        # \"sigma\": paper_params[data_config[\"dataset\"]][\"sigma\"],\n",
    "        \"n_hid\": 30,\n",
    "        \"resolve_silent\": False,\n",
    "        \"dropout\": 0.0,\n",
    "    },\n",
    "    \"device\": torch.device(\"cuda\")\n",
    "    if torch.cuda.is_available()\n",
    "    else torch.device(\"cpu\"),\n",
    "    # \"device\": \"cpu\",\n",
    "}\n",
    "\n",
    "training_config = {\n",
    "    \"n_epochs\": 15,\n",
    "    \"loss\": \"ce_temporal\",\n",
    "    \"alpha\": 0.0,\n",
    "    \"xi\": 1,\n",
    "    \"beta\": 6.4,\n",
    "    \"n_tests\": 20,\n",
    "}\n",
    "\n",
    "optim_config = {\n",
    "    \"lr\": 1e-2,\n",
    "    \"weight_decay\": 1e-6,\n",
    "    \"optimizer\": \"adam\",\n",
    "    \"gamma\": 0.9,\n",
    "}\n",
    "\n",
    "config = {\n",
    "    \"data\": data_config,\n",
    "    \"model\": model_config,\n",
    "    \"training\": training_config,\n",
    "    \"optim\": optim_config,\n",
    "}\n",
    "\n",
    "flat_config = get_flat_dict_from_nested(config)\n",
    "\n",
    "n_ins = {\n",
    "    \"mnist\": 784,\n",
    "    \"ying_yang\": 4 if data_config[\"encoding\"] == \"latency\" else 4,\n",
    "    \"synthetic\": 2,\n",
    "}\n",
    "n_outs = {\"mnist\": 10, \"ying_yang\": 3, \"synthetic\": 2}\n",
    "\n",
    "dims = [n_ins[data_config[\"dataset\"]]]\n",
    "if model_config[\"weights\"][\"n_hid\"] is not None and isinstance(\n",
    "    model_config[\"weights\"][\"n_hid\"], list\n",
    "):\n",
    "    dims.extend(model_config[\"weights\"][\"n_hid\"])\n",
    "elif isinstance(model_config[\"weights\"][\"n_hid\"], int):\n",
    "    dims.append(model_config[\"weights\"][\"n_hid\"])\n",
    "dims.append(n_outs[data_config[\"dataset\"]])"
   ]
  }
 ],
 "metadata": {
  "kernelspec": {
   "display_name": "eventprop",
   "language": "python",
   "name": "python3"
  },
  "language_info": {
   "codemirror_mode": {
    "name": "ipython",
    "version": 3
   },
   "file_extension": ".py",
   "mimetype": "text/x-python",
   "name": "python",
   "nbconvert_exporter": "python",
   "pygments_lexer": "ipython3",
   "version": "3.8.18"
  }
 },
 "nbformat": 4,
 "nbformat_minor": 2
}
